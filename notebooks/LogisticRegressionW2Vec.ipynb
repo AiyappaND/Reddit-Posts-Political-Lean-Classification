{
 "cells": [
  {
   "cell_type": "code",
   "execution_count": 1,
   "id": "67a8d127",
   "metadata": {},
   "outputs": [],
   "source": [
    "import pandas as pd\n",
    "import pathlib\n",
    "import os\n",
    "from sklearn.model_selection import train_test_split\n",
    "from sklearn.metrics import accuracy_score\n",
    "from sklearn.linear_model import LogisticRegression\n",
    "from sklearn import metrics\n",
    "import time"
   ]
  },
  {
   "cell_type": "code",
   "execution_count": 2,
   "id": "92757383",
   "metadata": {},
   "outputs": [
    {
     "data": {
      "text/html": [
       "<div>\n",
       "<style scoped>\n",
       "    .dataframe tbody tr th:only-of-type {\n",
       "        vertical-align: middle;\n",
       "    }\n",
       "\n",
       "    .dataframe tbody tr th {\n",
       "        vertical-align: top;\n",
       "    }\n",
       "\n",
       "    .dataframe thead th {\n",
       "        text-align: right;\n",
       "    }\n",
       "</style>\n",
       "<table border=\"1\" class=\"dataframe\">\n",
       "  <thead>\n",
       "    <tr style=\"text-align: right;\">\n",
       "      <th></th>\n",
       "      <th>f_title1</th>\n",
       "      <th>f_title2</th>\n",
       "      <th>f_title3</th>\n",
       "      <th>f_title4</th>\n",
       "      <th>f_title5</th>\n",
       "      <th>f_title6</th>\n",
       "      <th>f_title7</th>\n",
       "      <th>f_title8</th>\n",
       "      <th>f_title9</th>\n",
       "      <th>f_title10</th>\n",
       "      <th>...</th>\n",
       "      <th>f_title294</th>\n",
       "      <th>f_title295</th>\n",
       "      <th>f_title296</th>\n",
       "      <th>f_title297</th>\n",
       "      <th>f_title298</th>\n",
       "      <th>f_title299</th>\n",
       "      <th>f_title300</th>\n",
       "      <th>upvotes</th>\n",
       "      <th>num_comments</th>\n",
       "      <th>lean</th>\n",
       "    </tr>\n",
       "  </thead>\n",
       "  <tbody>\n",
       "    <tr>\n",
       "      <th>0</th>\n",
       "      <td>0.509233</td>\n",
       "      <td>0.509796</td>\n",
       "      <td>0.526944</td>\n",
       "      <td>0.317724</td>\n",
       "      <td>0.541685</td>\n",
       "      <td>0.531365</td>\n",
       "      <td>0.546596</td>\n",
       "      <td>0.569515</td>\n",
       "      <td>0.399459</td>\n",
       "      <td>0.430380</td>\n",
       "      <td>...</td>\n",
       "      <td>0.458434</td>\n",
       "      <td>0.437497</td>\n",
       "      <td>0.547845</td>\n",
       "      <td>0.622242</td>\n",
       "      <td>0.595791</td>\n",
       "      <td>0.422935</td>\n",
       "      <td>0.378929</td>\n",
       "      <td>-0.235641</td>\n",
       "      <td>-0.315592</td>\n",
       "      <td>0</td>\n",
       "    </tr>\n",
       "    <tr>\n",
       "      <th>1</th>\n",
       "      <td>0.545879</td>\n",
       "      <td>0.545836</td>\n",
       "      <td>0.542127</td>\n",
       "      <td>0.323522</td>\n",
       "      <td>0.588526</td>\n",
       "      <td>0.540965</td>\n",
       "      <td>0.494582</td>\n",
       "      <td>0.568003</td>\n",
       "      <td>0.447108</td>\n",
       "      <td>0.432901</td>\n",
       "      <td>...</td>\n",
       "      <td>0.463378</td>\n",
       "      <td>0.501334</td>\n",
       "      <td>0.446170</td>\n",
       "      <td>0.600539</td>\n",
       "      <td>0.577891</td>\n",
       "      <td>0.405029</td>\n",
       "      <td>0.332789</td>\n",
       "      <td>-0.225618</td>\n",
       "      <td>-0.299031</td>\n",
       "      <td>0</td>\n",
       "    </tr>\n",
       "    <tr>\n",
       "      <th>2</th>\n",
       "      <td>0.499863</td>\n",
       "      <td>0.491109</td>\n",
       "      <td>0.515401</td>\n",
       "      <td>0.301330</td>\n",
       "      <td>0.569805</td>\n",
       "      <td>0.482679</td>\n",
       "      <td>0.512302</td>\n",
       "      <td>0.536101</td>\n",
       "      <td>0.444994</td>\n",
       "      <td>0.450646</td>\n",
       "      <td>...</td>\n",
       "      <td>0.455791</td>\n",
       "      <td>0.461990</td>\n",
       "      <td>0.517195</td>\n",
       "      <td>0.584180</td>\n",
       "      <td>0.540460</td>\n",
       "      <td>0.405730</td>\n",
       "      <td>0.345539</td>\n",
       "      <td>-0.235641</td>\n",
       "      <td>-0.299031</td>\n",
       "      <td>0</td>\n",
       "    </tr>\n",
       "    <tr>\n",
       "      <th>3</th>\n",
       "      <td>0.592292</td>\n",
       "      <td>0.537038</td>\n",
       "      <td>0.506695</td>\n",
       "      <td>0.351282</td>\n",
       "      <td>0.606270</td>\n",
       "      <td>0.550121</td>\n",
       "      <td>0.499110</td>\n",
       "      <td>0.586974</td>\n",
       "      <td>0.414952</td>\n",
       "      <td>0.455848</td>\n",
       "      <td>...</td>\n",
       "      <td>0.410393</td>\n",
       "      <td>0.450405</td>\n",
       "      <td>0.593501</td>\n",
       "      <td>0.608552</td>\n",
       "      <td>0.564881</td>\n",
       "      <td>0.445488</td>\n",
       "      <td>0.306981</td>\n",
       "      <td>-0.223614</td>\n",
       "      <td>-0.265908</td>\n",
       "      <td>0</td>\n",
       "    </tr>\n",
       "    <tr>\n",
       "      <th>4</th>\n",
       "      <td>0.527448</td>\n",
       "      <td>0.455749</td>\n",
       "      <td>0.424801</td>\n",
       "      <td>0.041910</td>\n",
       "      <td>1.000000</td>\n",
       "      <td>0.574911</td>\n",
       "      <td>0.489282</td>\n",
       "      <td>0.557381</td>\n",
       "      <td>0.000000</td>\n",
       "      <td>0.683473</td>\n",
       "      <td>...</td>\n",
       "      <td>0.022727</td>\n",
       "      <td>0.439727</td>\n",
       "      <td>0.882757</td>\n",
       "      <td>0.609180</td>\n",
       "      <td>0.681899</td>\n",
       "      <td>0.175810</td>\n",
       "      <td>0.601163</td>\n",
       "      <td>-0.225618</td>\n",
       "      <td>-0.299031</td>\n",
       "      <td>0</td>\n",
       "    </tr>\n",
       "  </tbody>\n",
       "</table>\n",
       "<p>5 rows × 303 columns</p>\n",
       "</div>"
      ],
      "text/plain": [
       "   f_title1  f_title2  f_title3  f_title4  f_title5  f_title6  f_title7  \\\n",
       "0  0.509233  0.509796  0.526944  0.317724  0.541685  0.531365  0.546596   \n",
       "1  0.545879  0.545836  0.542127  0.323522  0.588526  0.540965  0.494582   \n",
       "2  0.499863  0.491109  0.515401  0.301330  0.569805  0.482679  0.512302   \n",
       "3  0.592292  0.537038  0.506695  0.351282  0.606270  0.550121  0.499110   \n",
       "4  0.527448  0.455749  0.424801  0.041910  1.000000  0.574911  0.489282   \n",
       "\n",
       "   f_title8  f_title9  f_title10  ...  f_title294  f_title295  f_title296  \\\n",
       "0  0.569515  0.399459   0.430380  ...    0.458434    0.437497    0.547845   \n",
       "1  0.568003  0.447108   0.432901  ...    0.463378    0.501334    0.446170   \n",
       "2  0.536101  0.444994   0.450646  ...    0.455791    0.461990    0.517195   \n",
       "3  0.586974  0.414952   0.455848  ...    0.410393    0.450405    0.593501   \n",
       "4  0.557381  0.000000   0.683473  ...    0.022727    0.439727    0.882757   \n",
       "\n",
       "   f_title297  f_title298  f_title299  f_title300   upvotes  num_comments  \\\n",
       "0    0.622242    0.595791    0.422935    0.378929 -0.235641     -0.315592   \n",
       "1    0.600539    0.577891    0.405029    0.332789 -0.225618     -0.299031   \n",
       "2    0.584180    0.540460    0.405730    0.345539 -0.235641     -0.299031   \n",
       "3    0.608552    0.564881    0.445488    0.306981 -0.223614     -0.265908   \n",
       "4    0.609180    0.681899    0.175810    0.601163 -0.225618     -0.299031   \n",
       "\n",
       "   lean  \n",
       "0     0  \n",
       "1     0  \n",
       "2     0  \n",
       "3     0  \n",
       "4     0  \n",
       "\n",
       "[5 rows x 303 columns]"
      ]
     },
     "execution_count": 2,
     "metadata": {},
     "output_type": "execute_result"
    }
   ],
   "source": [
    "data = pd.read_csv('../data/w2vecscaled.csv')\n",
    "data.head()"
   ]
  },
  {
   "cell_type": "code",
   "execution_count": 3,
   "id": "9125cfc7",
   "metadata": {},
   "outputs": [
    {
     "name": "stdout",
     "output_type": "stream",
     "text": [
      "Number of entries for Liberal:  8319\n",
      "Number of entries for Conservative:  4535\n"
     ]
    }
   ],
   "source": [
    "print(\"Number of entries for Liberal: \", len(data[data.lean == 0]))\n",
    "print(\"Number of entries for Conservative: \", len(data[data.lean == 1]))"
   ]
  },
  {
   "cell_type": "code",
   "execution_count": 4,
   "id": "62b1f447",
   "metadata": {},
   "outputs": [],
   "source": [
    "X = data.values[:, :-1]\n",
    "Y = data.values[:, -1]"
   ]
  },
  {
   "cell_type": "code",
   "execution_count": 5,
   "id": "a37975b5",
   "metadata": {},
   "outputs": [
    {
     "name": "stdout",
     "output_type": "stream",
     "text": [
      "Number of entries for Liberal: in Test 2074\n",
      "Number of entries for Conservative: in Test  1140\n",
      "Number of entries for Liberal: in Train 6245\n",
      "Number of entries for Conservative: in Train  3395\n"
     ]
    }
   ],
   "source": [
    "x_train, x_test, y_train, y_test = train_test_split(X, Y, test_size=0.25, random_state=0)\n",
    "\n",
    "print(\"Number of entries for Liberal: in Test\", len([a for a in y_test if a == 0]))\n",
    "print(\"Number of entries for Conservative: in Test \", len([a for a in y_test if a == 1]))\n",
    "\n",
    "print(\"Number of entries for Liberal: in Train\", len([a for a in y_train if a == 0]))\n",
    "print(\"Number of entries for Conservative: in Train \", len([a for a in y_train if a == 1]))"
   ]
  },
  {
   "cell_type": "code",
   "execution_count": 6,
   "id": "973301d1",
   "metadata": {},
   "outputs": [
    {
     "name": "stdout",
     "output_type": "stream",
     "text": [
      "Overall accuracy:  71.28  %\n",
      "Accuracy for class liberal:  90.94  %\n",
      "Accuracy for class Conservative:  35.53  %\n",
      "Time taken:  0.9316377639770508 seconds\n"
     ]
    }
   ],
   "source": [
    "start = time.time()\n",
    "\n",
    "logisticRegr = LogisticRegression(max_iter=10000)\n",
    "logisticRegr.fit(x_train, y_train)\n",
    "predictions = logisticRegr.predict(x_test)\n",
    "score = logisticRegr.score(x_test, y_test)\n",
    "\n",
    "end = time.time()\n",
    "\n",
    "acc = round((score * 100), 2)\n",
    "\n",
    "print(\"Overall accuracy: \" , str(acc) , \" %\")\n",
    "\n",
    "cf_matrix = metrics.confusion_matrix(y_test, predictions)\n",
    "\n",
    "acc_score_liberal = round(((cf_matrix[0][0] / len([a for a in y_test if a == 0])) * 100), 2)\n",
    "print(\"Accuracy for class liberal: \" , str(acc_score_liberal) , \" %\")\n",
    "\n",
    "acc_score_cons = round(((cf_matrix[1][1] / len([a for a in y_test if a == 1])) * 100), 2)\n",
    "print(\"Accuracy for class Conservative: \" , str(acc_score_cons) , \" %\")\n",
    "\n",
    "print(\"Time taken: \" , str(end-start), 'seconds')"
   ]
  },
  {
   "cell_type": "code",
   "execution_count": 7,
   "id": "ce0ebb10",
   "metadata": {},
   "outputs": [
    {
     "data": {
      "image/png": "[encoded data removed]",
      "text/plain": [
       "<Figure size 432x288 with 2 Axes>"
      ]
     },
     "metadata": {
      "needs_background": "light"
     },
     "output_type": "display_data"
    }
   ],
   "source": [
    "import seaborn as sns\n",
    "import numpy as np\n",
    "import matplotlib.pyplot as plt\n",
    "\n",
    "ax = sns.heatmap(cf_matrix/np.sum(cf_matrix), annot=True, \n",
    "            fmt='.2%', cmap='Blues')\n",
    "\n",
    "ax.set_title('Confusion Matrix\\n\\n');\n",
    "ax.set_xlabel('\\nPredicted Values')\n",
    "ax.set_ylabel('Actual Values ');\n",
    "\n",
    "## Ticket labels - List must be in alphabetical order\n",
    "ax.xaxis.set_ticklabels(['Liberal','Conservative'])\n",
    "ax.yaxis.set_ticklabels(['Liberal','Conservative'])\n",
    "\n",
    "## Display the visualization of the Confusion Matrix.\n",
    "plt.show()"
   ]
  }
 ],
 "metadata": {
  "kernelspec": {
   "display_name": "Python 3 (ipykernel)",
   "language": "python",
   "name": "python3"
  },
  "language_info": {
   "codemirror_mode": {
    "name": "ipython",
    "version": 3
   },
   "file_extension": ".py",
   "mimetype": "text/x-python",
   "name": "python",
   "nbconvert_exporter": "python",
   "pygments_lexer": "ipython3",
   "version": "3.8.10"
  }
 },
 "nbformat": 4,
 "nbformat_minor": 5
}
